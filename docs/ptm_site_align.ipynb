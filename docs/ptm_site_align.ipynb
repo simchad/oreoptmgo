{
 "cells": [
  {
   "cell_type": "code",
   "execution_count": 1,
   "metadata": {},
   "outputs": [],
   "source": [
    "\"\"\"\n",
    "ptm_site_align.ipynb\n",
    "\n",
    "\"\"\"\n",
    "__author__ = \"github.com/simhc0714\"\n",
    "__version__ = \"0.1.0\"\n",
    "\n",
    "# import packages\n",
    "import pandas as pd\n",
    "import numpy as np\n",
    "\n",
    "# Generate Logos data. Test ~10 rows\n",
    "def logo_align(df_site, df_sequence, d:int=7, aa='K'):\n",
    "    \"\"\"\n",
    "    logo_align(df_site, df_sequence) -> .csv\n",
    "\n",
    "    Parameters\n",
    "    ----------\n",
    "    - df_site: Dataframe that contains UniprotAC and site, must be formed (UniprotAC_Site) (pandas.DataFrame).\n",
    "    - df_sequence: Dataframe that contains UniprotAC and its sequence (pandas.DataFrame).\n",
    "    - d: 7aa-X-7aa (default=7) (int).\n",
    "    - aa: Amino acid one letter code (default='K').\n",
    "\n",
    "    Notes\n",
    "    -----\n",
    "    Regex excess: delimiter is _ (underscore)\n",
    "    1) left_ : Uniprot AC/ID\n",
    "    2) _right : Kac site\n",
    "\n",
    "    - left_ matches with df_ref_sequence (From)\n",
    "    - _right access df_ref_sequence (Sequence)\n",
    "\n",
    "    3) Cut forward and backward 7 amino acids.\n",
    "    \"\"\"\n",
    "    # Initialize params\n",
    "    aa = aa.upper()\n",
    "    entries = []\n",
    "    logo = []\n",
    "    start = []\n",
    "    end = []\n",
    "\n",
    "    # 1. UniprotAC-ID_Site\n",
    "    for (i, entry) in df_site.iterrows():\n",
    "        entries.append(entry[0].replace('_', '_'+aa))\n",
    "        ent_name, ent_site = entry[0].split('_')\n",
    "        ent_site = int(ent_site)\n",
    "        # 2. Match entry in reference_sequence.\n",
    "        try :\n",
    "            seq = df_sequence.loc[ent_name]['Sequence']\n",
    "            # For ent_site on sequence residue is lysine (K) if not -> else\n",
    "            if seq[ent_site-1] == aa:\n",
    "                # 3. Cases.\n",
    "                # 3.1. If site residue locates too close forward of sequence.\n",
    "                if ent_site-d-1 < 0:\n",
    "                    start.append(int(1))\n",
    "                    space = \"\"\n",
    "                    for i in range(d+1-ent_site):\n",
    "                        space += \" \"\n",
    "                    logo.append(space+seq[:ent_site+d])\n",
    "                    end.append(ent_site+d)\n",
    "                # 3.2. If site residue locates too close backward of sequence.\n",
    "                elif ent_site+d > len(seq):\n",
    "                    start.append(ent_site-d)\n",
    "                    space = \"\"\n",
    "                    for i in range(ent_site+d-len(seq)):\n",
    "                        space+=\" \"\n",
    "                    logo.append(seq[ent_site-d-1:]+space)\n",
    "                    end.append(len(seq))\n",
    "                # 3.3. Normal condition.\n",
    "                else:\n",
    "                    start.append(ent_site-d)\n",
    "                    logo.append(seq[ent_site-d-1:ent_site+d])\n",
    "                    end.append(ent_site+d)\n",
    "            else:\n",
    "                start.append(\"NaN\")\n",
    "                logo.append(\"\")\n",
    "                end.append(\"NaN\")\n",
    "        # ent_site on sequence is not lysine (K) it is other amino acid.\n",
    "        except:\n",
    "            start.append(\"NaN\")\n",
    "            logo.append(\"\")\n",
    "            end.append(\"NaN\")\n",
    "    # Organized DataFrame\n",
    "    logos = pd.DataFrame(np.column_stack([entries, logo, start, end]), columns=['Entry', 'Logo', 'Start residue', 'End residue'])\n",
    "    return logos"
   ]
  },
  {
   "cell_type": "code",
   "execution_count": 9,
   "metadata": {},
   "outputs": [
    {
     "name": "stderr",
     "output_type": "stream",
     "text": [
      "C:\\Users\\user\\AppData\\Local\\Temp\\ipykernel_71596\\1116921077.py:3: ParserWarning: Falling back to the 'python' engine because the 'c' engine does not support regex separators (separators > 1 char and different from '\\s+' are interpreted as regex); you can avoid this warning by specifying engine='python'.\n",
      "  site = pd.read_csv(filepath_or_buffer='..\\\\example\\\\Phospho (ST)Sites.txt', delimiter='\\\\t', encoding='utf-8')\n"
     ]
    }
   ],
   "source": [
    "import pandas as pd\n",
    "\n",
    "site = pd.read_csv(filepath_or_buffer='..\\\\example\\\\Phospho (ST)Sites.txt', delimiter='\\\\t', encoding='utf-8')"
   ]
  },
  {
   "cell_type": "code",
   "execution_count": 7,
   "metadata": {},
   "outputs": [],
   "source": [
    "# Load example data\n",
    "site = pd.read_csv(filepath_or_buffer='..\\\\example\\\\Phospho (ST)Sites.txt', delimiter='\\\\t', encoding='utf-8')\n",
    "ref_sequence = pd.read_csv(filepath_or_buffer='F:/_ProteomicData/(202303)Global_Kac_HFD/logos/ref_sequence.CSV', index_col=0, encoding='utf-8')\n",
    "\n",
    "# Run\n",
    "logos = logo_align(df_site=site, df_sequence=ref_sequence)\n",
    "logos.to_csv(path_or_buf='../../output/temp.csv', index=False, encoding='utf-8')"
   ]
  },
  {
   "cell_type": "code",
   "execution_count": 6,
   "metadata": {},
   "outputs": [
    {
     "name": "stdout",
     "output_type": "stream",
     "text": [
      "         Entry             Logo Start residue End residue\n",
      "0  A8DUK4_K145  VAAALAHKYH                138         147\n",
      "1   A8DUK4_K18  AVSGLWGKVNADEVG            11          25\n",
      "2   A8DUK4_K67  KVKAHGKKVITAFND            60          74\n",
      "3   A8DUK4_K96  LSELHCDKLHVDPEN            89         103\n",
      "4  D3Z7X0_K535  RLGDDQLKVAKMELK           528         542\n"
     ]
    }
   ],
   "source": [
    "if __name__ == \"__main__\":\n",
    "    # Load example data\n",
    "    site = pd.read_csv(filepath_or_buffer='../../example/Acetyl(K)Sites.CSV', encoding='utf-8')\n",
    "    ref_sequence = pd.read_csv(filepath_or_buffer='../../example/reference_sequence.csv', index_col=0, encoding='utf-8')\n",
    "\n",
    "    # Run\n",
    "    logos = logo_align(df_site=site, df_sequence=ref_sequence)\n",
    "    logos.to_csv(path_or_buf='../../output/logos.csv', index=False, encoding='utf-8')\n",
    "\n",
    "    # Show the first 5 rows\n",
    "    print(logos.head())"
   ]
  },
  {
   "cell_type": "code",
   "execution_count": 5,
   "metadata": {},
   "outputs": [
    {
     "name": "stdout",
     "output_type": "stream",
     "text": [
      "VAAALAHKYH\n",
      "AVSGLWGKVNADEVG\n",
      "KVKAHGKKVITAFND\n",
      "LSELHCDKLHVDPEN\n",
      "RLGDDQLKVAKMELK\n",
      "GGGVGRGKDISTITG\n",
      "WLLELSKKNIFPYHE\n",
      "   MEHSKQIRILLL\n",
      "NRFDYKDKDFLSLIG\n",
      "NIKAAWGKIGGHGAE\n"
     ]
    }
   ],
   "source": [
    "# Generate Logos data. Test ~10 rows\n",
    "import pandas as pd\n",
    "df_site = pd.read_csv(filepath_or_buffer='../../example/Acetyl(K)Sites.CSV', encoding='utf-8')\n",
    "df_ref_sequence = pd.read_csv(filepath_or_buffer='../../example/reference_sequence.csv', index_col=0, encoding='utf-8')\n",
    "\n",
    "for (i, entry) in df_site[:10].iterrows():\n",
    "    ent_name, ent_site = entry[0].split('_')\n",
    "    ent_site = int(ent_site)\n",
    "    seq = df_ref_sequence.loc[ent_name]['Sequence']\n",
    "    if ent_site-8 < 0:\n",
    "        space = \"\"\n",
    "        for i in range(8-ent_site):\n",
    "            space += \" \"\n",
    "        logo = space+seq[:ent_site+7]\n",
    "    else:\n",
    "        logo = seq[ent_site-8:ent_site+7]\n",
    "    print(logo)"
   ]
  }
 ],
 "metadata": {
  "kernelspec": {
   "display_name": "Python 3",
   "language": "python",
   "name": "python3"
  },
  "language_info": {
   "codemirror_mode": {
    "name": "ipython",
    "version": 3
   },
   "file_extension": ".py",
   "mimetype": "text/x-python",
   "name": "python",
   "nbconvert_exporter": "python",
   "pygments_lexer": "ipython3",
   "version": "3.10.9"
  },
  "orig_nbformat": 4
 },
 "nbformat": 4,
 "nbformat_minor": 2
}
