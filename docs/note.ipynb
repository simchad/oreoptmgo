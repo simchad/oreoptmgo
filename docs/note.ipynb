{
 "cells": [
  {
   "cell_type": "markdown",
   "metadata": {},
   "source": [
    "# note.ipynb\n",
    "\n",
    "## Piepeline\n",
    "1. Preprocessing\n",
    "- Maxquant Acetyl (K)sites.txt 불러오기.\n",
    "- Contaminants, reversed \"+\" drop, local prob < 0.75 drop.\n",
    "- Leading protein, Position feature --> CODE \"[UPID]_[K][PositionNumber]\n",
    "\n",
    "2. Uniprot API idmapping APi\n",
    "- idmapping Leading proteins to use Uniprot API, retrieve result file to .json format\n",
    "- Xtract features from json result data file.\n",
    "- Features: Accession ID, Protein Name (RecName or SubName), Gene Name, Sequence\n",
    "- Using for reference\n",
    "\n",
    "3. DB matching\n",
    "- Retrieve UPID in iPTMnet using pyiptmnet API function.\n",
    "- dbPTM (Preprocessed, only mouse data included)\n",
    "- Prevailing\n",
    "\n",
    "4. Visualization\n",
    "- \n",
    "\n",
    "\n",
    "### Core Modules\n",
    "\n",
    "- mq_preprocessing_kac()\n",
    "- ptm_site_align()\n",
    "- pyiptmnet_retrieve()\n",
    "- up_json_xtract()\n",
    "\n"
   ]
  }
 ],
 "metadata": {
  "language_info": {
   "name": "python"
  }
 },
 "nbformat": 4,
 "nbformat_minor": 2
}
